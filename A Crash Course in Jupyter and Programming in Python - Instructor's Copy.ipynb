{
 "cells": [
  {
   "cell_type": "markdown",
   "metadata": {},
   "source": [
    "# A Crash Course in Jupyter and Programming in Python\n"
   ]
  },
  {
   "cell_type": "markdown",
   "metadata": {
    "toc": true
   },
   "source": [
    "<h1>Table of Contents<span class=\"tocSkip\"></span></h1>\n",
    "<div class=\"toc\" style=\"margin-top: 1em;\"><ul class=\"toc-item\"><li><span><a href=\"#A-Crash-Course-in-Jupyter-and-Programming-in-Python\" data-toc-modified-id=\"A-Crash-Course-in-Jupyter-and-Programming-in-Python-1\"><span class=\"toc-item-num\">1&nbsp;&nbsp;</span>A Crash Course in Jupyter and Programming in Python</a></span><ul class=\"toc-item\"><li><span><a href=\"#The-Jupyter-Notebook-environment\" data-toc-modified-id=\"The-Jupyter-Notebook-environment-1.1\"><span class=\"toc-item-num\">1.1&nbsp;&nbsp;</span>The Jupyter Notebook environment</a></span><ul class=\"toc-item\"><li><span><a href=\"#Note-taking\" data-toc-modified-id=\"Note-taking-1.1.1\"><span class=\"toc-item-num\">1.1.1&nbsp;&nbsp;</span>Note-taking</a></span></li><li><span><a href=\"#Programming\" data-toc-modified-id=\"Programming-1.1.2\"><span class=\"toc-item-num\">1.1.2&nbsp;&nbsp;</span>Programming</a></span></li></ul></li><li><span><a href=\"#Introduction-to-Programming-in-Python\" data-toc-modified-id=\"Introduction-to-Programming-in-Python-1.2\"><span class=\"toc-item-num\">1.2&nbsp;&nbsp;</span>Introduction to Programming in Python</a></span><ul class=\"toc-item\"><li><span><a href=\"#Comments\" data-toc-modified-id=\"Comments-1.2.1\"><span class=\"toc-item-num\">1.2.1&nbsp;&nbsp;</span>Comments</a></span></li><li><span><a href=\"#Variables\" data-toc-modified-id=\"Variables-1.2.2\"><span class=\"toc-item-num\">1.2.2&nbsp;&nbsp;</span>Variables</a></span></li><li><span><a href=\"#Data-Types\" data-toc-modified-id=\"Data-Types-1.2.3\"><span class=\"toc-item-num\">1.2.3&nbsp;&nbsp;</span>Data Types</a></span></li><li><span><a href=\"#Basic-Operations\" data-toc-modified-id=\"Basic-Operations-1.2.4\"><span class=\"toc-item-num\">1.2.4&nbsp;&nbsp;</span>Basic Operations</a></span><ul class=\"toc-item\"><li><span><a href=\"#Integers-and-Floating-points\" data-toc-modified-id=\"Integers-and-Floating-points-1.2.4.1\"><span class=\"toc-item-num\">1.2.4.1&nbsp;&nbsp;</span>Integers and Floating points</a></span></li><li><span><a href=\"#Exercise!\" data-toc-modified-id=\"Exercise!-1.2.4.2\"><span class=\"toc-item-num\">1.2.4.2&nbsp;&nbsp;</span>Exercise!</a></span></li><li><span><a href=\"#Strings\" data-toc-modified-id=\"Strings-1.2.4.3\"><span class=\"toc-item-num\">1.2.4.3&nbsp;&nbsp;</span>Strings</a></span></li><li><span><a href=\"#Booleans\" data-toc-modified-id=\"Booleans-1.2.4.4\"><span class=\"toc-item-num\">1.2.4.4&nbsp;&nbsp;</span>Booleans</a></span></li><li><span><a href=\"#Exercise!\" data-toc-modified-id=\"Exercise!-1.2.4.5\"><span class=\"toc-item-num\">1.2.4.5&nbsp;&nbsp;</span>Exercise!</a></span></li></ul></li><li><span><a href=\"#Functions\" data-toc-modified-id=\"Functions-1.2.5\"><span class=\"toc-item-num\">1.2.5&nbsp;&nbsp;</span>Functions</a></span><ul class=\"toc-item\"><li><span><a href=\"#Exercise!\" data-toc-modified-id=\"Exercise!-1.2.5.1\"><span class=\"toc-item-num\">1.2.5.1&nbsp;&nbsp;</span>Exercise!</a></span></li></ul></li><li><span><a href=\"#Scope\" data-toc-modified-id=\"Scope-1.2.6\"><span class=\"toc-item-num\">1.2.6&nbsp;&nbsp;</span>Scope</a></span></li><li><span><a href=\"#Conditionals\" data-toc-modified-id=\"Conditionals-1.2.7\"><span class=\"toc-item-num\">1.2.7&nbsp;&nbsp;</span>Conditionals</a></span><ul class=\"toc-item\"><li><span><a href=\"#On-Scoping-in-Conditionals\" data-toc-modified-id=\"On-Scoping-in-Conditionals-1.2.7.1\"><span class=\"toc-item-num\">1.2.7.1&nbsp;&nbsp;</span>On Scoping in Conditionals</a></span></li><li><span><a href=\"#Exercise!\" data-toc-modified-id=\"Exercise!-1.2.7.2\"><span class=\"toc-item-num\">1.2.7.2&nbsp;&nbsp;</span>Exercise!</a></span></li></ul></li><li><span><a href=\"#Iterables\" data-toc-modified-id=\"Iterables-1.2.8\"><span class=\"toc-item-num\">1.2.8&nbsp;&nbsp;</span>Iterables</a></span><ul class=\"toc-item\"><li><span><a href=\"#Iterable-Indices\" data-toc-modified-id=\"Iterable-Indices-1.2.8.1\"><span class=\"toc-item-num\">1.2.8.1&nbsp;&nbsp;</span>Iterable Indices</a></span></li><li><span><a href=\"#Slicing\" data-toc-modified-id=\"Slicing-1.2.8.2\"><span class=\"toc-item-num\">1.2.8.2&nbsp;&nbsp;</span>Slicing</a></span></li><li><span><a href=\"#Exercise!\" data-toc-modified-id=\"Exercise!-1.2.8.3\"><span class=\"toc-item-num\">1.2.8.3&nbsp;&nbsp;</span>Exercise!</a></span></li></ul></li><li><span><a href=\"#Loops\" data-toc-modified-id=\"Loops-1.2.9\"><span class=\"toc-item-num\">1.2.9&nbsp;&nbsp;</span>Loops</a></span><ul class=\"toc-item\"><li><span><a href=\"#Using-the-enumerate()-function\" data-toc-modified-id=\"Using-the-enumerate()-function-1.2.9.1\"><span class=\"toc-item-num\">1.2.9.1&nbsp;&nbsp;</span>Using the enumerate() function</a></span></li><li><span><a href=\"#Nested-Loops\" data-toc-modified-id=\"Nested-Loops-1.2.9.2\"><span class=\"toc-item-num\">1.2.9.2&nbsp;&nbsp;</span>Nested Loops</a></span></li><li><span><a href=\"#Exercise!\" data-toc-modified-id=\"Exercise!-1.2.9.3\"><span class=\"toc-item-num\">1.2.9.3&nbsp;&nbsp;</span>Exercise!</a></span></li><li><span><a href=\"#Challenge!\" data-toc-modified-id=\"Challenge!-1.2.9.4\"><span class=\"toc-item-num\">1.2.9.4&nbsp;&nbsp;</span>Challenge!</a></span></li></ul></li><li><span><a href=\"#Other-topics-with-Lists-and-Iterables\" data-toc-modified-id=\"Other-topics-with-Lists-and-Iterables-1.2.10\"><span class=\"toc-item-num\">1.2.10&nbsp;&nbsp;</span>Other topics with Lists and Iterables</a></span><ul class=\"toc-item\"><li><span><a href=\"#List-Comprehensions\" data-toc-modified-id=\"List-Comprehensions-1.2.10.1\"><span class=\"toc-item-num\">1.2.10.1&nbsp;&nbsp;</span>List Comprehensions</a></span></li><li><span><a href=\"#Nested-or-N-dimensional-Lists\" data-toc-modified-id=\"Nested-or-N-dimensional-Lists-1.2.10.2\"><span class=\"toc-item-num\">1.2.10.2&nbsp;&nbsp;</span>Nested or N-dimensional Lists</a></span></li></ul></li><li><span><a href=\"#Dictionaries\" data-toc-modified-id=\"Dictionaries-1.2.11\"><span class=\"toc-item-num\">1.2.11&nbsp;&nbsp;</span>Dictionaries</a></span><ul class=\"toc-item\"><li><span><a href=\"#Iterating-Dictionaries\" data-toc-modified-id=\"Iterating-Dictionaries-1.2.11.1\"><span class=\"toc-item-num\">1.2.11.1&nbsp;&nbsp;</span>Iterating Dictionaries</a></span></li></ul></li><li><span><a href=\"#Short-Introduction-to-Object-Oriented-Programming\" data-toc-modified-id=\"Short-Introduction-to-Object-Oriented-Programming-1.2.12\"><span class=\"toc-item-num\">1.2.12&nbsp;&nbsp;</span>Short Introduction to Object-Oriented Programming</a></span><ul class=\"toc-item\"><li><span><a href=\"#Exercise\" data-toc-modified-id=\"Exercise-1.2.12.1\"><span class=\"toc-item-num\">1.2.12.1&nbsp;&nbsp;</span>Exercise</a></span></li></ul></li><li><span><a href=\"#Using-Libraries\" data-toc-modified-id=\"Using-Libraries-1.2.13\"><span class=\"toc-item-num\">1.2.13&nbsp;&nbsp;</span>Using Libraries</a></span><ul class=\"toc-item\"><li><span><a href=\"#Exercise!\" data-toc-modified-id=\"Exercise!-1.2.13.1\"><span class=\"toc-item-num\">1.2.13.1&nbsp;&nbsp;</span>Exercise!</a></span></li></ul></li><li><span><a href=\"#Challenges-of-the-Day!\" data-toc-modified-id=\"Challenges-of-the-Day!-1.2.14\"><span class=\"toc-item-num\">1.2.14&nbsp;&nbsp;</span>Challenges of the Day!</a></span></li></ul></li></ul></li></ul></div>"
   ]
  },
  {
   "cell_type": "markdown",
   "metadata": {},
   "source": [
    "## The Jupyter Notebook environment\n",
    "\n",
    "> Notebook documents (or “notebooks”, all lower case) are documents produced by the Jupyter Notebook App, which contain both computer code (e.g. python) and rich text elements (paragraph, equations, figures, links, etc...). Notebook documents are both human-readable documents containing the analysis description and the results (figures, tables, etc..) as well as executable documents which can be run to perform data analysis. __-Jupyter.org__\n",
    "\n",
    "A Jupyter Notebook contains __cells__ that either runs code or contains notes.\n",
    "\n",
    "__TL;DR__: Jupyter notebooks allow us to combine notes and code to enable understandable and reproducible data science experiments. \n",
    "\n",
    "_Double click here to continue._\n",
    "\n",
    "###  Note-taking\n",
    "We can write in HTML like this:\n",
    "<ul>\n",
    "    <li> this </li>\n",
    "    <li> is </li>\n",
    "    <li> html </li>\n",
    "</ul>\n",
    "\n",
    "<hr>\n",
    "\n",
    "or preferrably in Markdown, a simplified HTML-based language:\n",
    "\n",
    "* This\n",
    "* is\n",
    "    1. Markdown\n",
    "\n",
    "You can read more about Markdown [here](https://github.com/adam-p/markdown-here/wiki/Markdown-Cheatsheet)\n",
    "\n",
    "We also have another note-taking language, that's good for mathematical expressions, called LaTeX.\n",
    "\n",
    "$\\hat{y} = \\sigma(\\sum{\\beta_i x_i} + \\beta_0)$  \n",
    "\n",
    "Here's a [LaTeX cheatsheet](https://users.dickinson.edu/~richesod/latex/latexcheatsheet.pdf)\n",
    "\n",
    "### Programming\n",
    "Jupyter Notebooks allow us to move cells all over the notebook. However, it's important __to code in a sequential (top to bottom) manner__. To ensure that your notebook is reproducible, click on the the __Kernel__ button on the menu bar and then on __Restart & Run All__.\n",
    "\n",
    "_Press Shift-Enter to run this cell._"
   ]
  },
  {
   "cell_type": "markdown",
   "metadata": {},
   "source": [
    "## Introduction to Programming in Python\n",
    "\n",
    "> Python is an interpreted, object-oriented, high-level programming language with dynamic semantics.. Python's simple, easy to learn syntax emphasizes readability and therefore reduces the cost of program maintenance..  Often, programmers fall in love with Python because of the increased productivity it provides. Since there is no compilation step, the edit-test-debug cycle is incredibly fast. __-Python.org__ "
   ]
  },
  {
   "cell_type": "code",
   "execution_count": 1,
   "metadata": {},
   "outputs": [
    {
     "name": "stdout",
     "output_type": "stream",
     "text": [
      "The Zen of Python, by Tim Peters\n",
      "\n",
      "Beautiful is better than ugly.\n",
      "Explicit is better than implicit.\n",
      "Simple is better than complex.\n",
      "Complex is better than complicated.\n",
      "Flat is better than nested.\n",
      "Sparse is better than dense.\n",
      "Readability counts.\n",
      "Special cases aren't special enough to break the rules.\n",
      "Although practicality beats purity.\n",
      "Errors should never pass silently.\n",
      "Unless explicitly silenced.\n",
      "In the face of ambiguity, refuse the temptation to guess.\n",
      "There should be one-- and preferably only one --obvious way to do it.\n",
      "Although that way may not be obvious at first unless you're Dutch.\n",
      "Now is better than never.\n",
      "Although never is often better than *right* now.\n",
      "If the implementation is hard to explain, it's a bad idea.\n",
      "If the implementation is easy to explain, it may be a good idea.\n",
      "Namespaces are one honking great idea -- let's do more of those!\n"
     ]
    }
   ],
   "source": [
    "import this"
   ]
  },
  {
   "cell_type": "markdown",
   "metadata": {},
   "source": [
    "### Comments\n",
    "\n",
    "Sometimes, we don't really want or need to create separate notebook cells to explain our code.\n",
    "Thus, we can just create comments."
   ]
  },
  {
   "cell_type": "code",
   "execution_count": 2,
   "metadata": {},
   "outputs": [],
   "source": [
    "# This is a comment in Python"
   ]
  },
  {
   "cell_type": "markdown",
   "metadata": {},
   "source": [
    "###  Variables\n",
    "\n",
    "Variables are things that hold data.\n",
    "\n",
    "We use the __$=$__ symbol to assign data to them."
   ]
  },
  {
   "cell_type": "code",
   "execution_count": 3,
   "metadata": {},
   "outputs": [],
   "source": [
    "some_variable = 10\n",
    "my_name = 'Type your name here'\n",
    "some_integer = 1\n",
    "some_float = 1.2\n",
    "a_boolean = True"
   ]
  },
  {
   "cell_type": "markdown",
   "metadata": {},
   "source": [
    "We can see what's inside these variables using print()"
   ]
  },
  {
   "cell_type": "code",
   "execution_count": 4,
   "metadata": {},
   "outputs": [
    {
     "name": "stdout",
     "output_type": "stream",
     "text": [
      "10\n",
      "Type your name here\n",
      "1\n",
      "1.2\n",
      "True\n"
     ]
    }
   ],
   "source": [
    "print(some_variable)\n",
    "print(my_name)\n",
    "print(some_integer)\n",
    "print(some_float)\n",
    "print(a_boolean)"
   ]
  },
  {
   "cell_type": "markdown",
   "metadata": {},
   "source": [
    "###  Data Types\n",
    "\n",
    "Variables have __data types__ or aptly named as classes.\n",
    "\n",
    "We can see the types of the variables using type() and then print() them out. "
   ]
  },
  {
   "cell_type": "code",
   "execution_count": 5,
   "metadata": {},
   "outputs": [
    {
     "name": "stdout",
     "output_type": "stream",
     "text": [
      "<class 'int'>\n",
      "<class 'float'>\n",
      "<class 'str'>\n",
      "<class 'bool'>\n"
     ]
    }
   ],
   "source": [
    "print(type(some_integer))\n",
    "print(type(some_float))\n",
    "print(type(my_name))\n",
    "print(type(a_boolean))"
   ]
  },
  {
   "cell_type": "markdown",
   "metadata": {},
   "source": [
    "Some data types are:\n",
    "\n",
    "int $\\to$ integer which only holds whole numbers.\n",
    "\n",
    "float $\\to$ floating point which can hold decimals but it can't hold it well at times. (Try to print out the result of 3.14 + 1)\n",
    "\n",
    "str $\\to$ string or a string of characters which holds any character symbol."
   ]
  },
  {
   "cell_type": "markdown",
   "metadata": {},
   "source": [
    "###  Basic Operations\n",
    "####  Integers and Floating points\n",
    "we have basic operations such as:\n",
    "\n",
    "$ +, -, *, / \\to$ addition, subtraction, multiplication, and division.\n",
    "\n",
    "\\>, <, ==, !=, <=, >= $\\to$ comparison operators"
   ]
  },
  {
   "cell_type": "code",
   "execution_count": 6,
   "metadata": {},
   "outputs": [
    {
     "name": "stdout",
     "output_type": "stream",
     "text": [
      "22\n",
      "-24\n",
      "1.12\n",
      "7.19047619047619\n",
      "True\n",
      "True\n"
     ]
    }
   ],
   "source": [
    "print(10 + 12)\n",
    "print(10 - 34)\n",
    "print(1 * 1.12)\n",
    "print(30.2 / 4.2)\n",
    "print(10 <= 10)\n",
    "print(100 != 40)"
   ]
  },
  {
   "cell_type": "markdown",
   "metadata": {},
   "source": [
    "We also have other operations such as:\n",
    "\n",
    "** $\\to$ exponentiation.\n",
    "\n",
    "// $\\to$ integer division, which discards the floating point values.\n",
    "\n",
    "$ \\% \\to$ modulo, which only gives the remainder of a division.\n",
    "\n",
    "$ \\exp \\to$ exp, which gives an nth multiple of 10 to a number."
   ]
  },
  {
   "cell_type": "code",
   "execution_count": 7,
   "metadata": {},
   "outputs": [
    {
     "name": "stdout",
     "output_type": "stream",
     "text": [
      "10000\n",
      "2\n",
      "2\n",
      "100000.0\n"
     ]
    }
   ],
   "source": [
    "print(10 ** 4)\n",
    "print(10 // 4)\n",
    "print(10 % 4)\n",
    "print(10e4)"
   ]
  },
  {
   "cell_type": "markdown",
   "metadata": {},
   "source": [
    "#### Exercise!\n",
    "\n",
    "What's the remainder of 1e10 divided by $3^{13}$?"
   ]
  },
  {
   "cell_type": "code",
   "execution_count": 8,
   "metadata": {},
   "outputs": [
    {
     "name": "stdout",
     "output_type": "stream",
     "text": [
      "406144.0\n"
     ]
    }
   ],
   "source": [
    "print(1e10 % 3**13)"
   ]
  },
  {
   "cell_type": "markdown",
   "metadata": {},
   "source": [
    "####  Strings \n",
    "\n",
    "we have:\n",
    "\n",
    "\\+ $\\to$ concatenate or to combine two strings.\n",
    "\n",
    "\\* $\\to$ multiply a string by some integer."
   ]
  },
  {
   "cell_type": "code",
   "execution_count": 9,
   "metadata": {},
   "outputs": [
    {
     "name": "stdout",
     "output_type": "stream",
     "text": [
      "Hi! My name is Type your name here\n",
      "oooooooooo\n"
     ]
    }
   ],
   "source": [
    "print('Hi! My name is ' + my_name)\n",
    "print('o' * 10)"
   ]
  },
  {
   "cell_type": "markdown",
   "metadata": {},
   "source": [
    "#### Booleans\n",
    "\n",
    "Here's a basic boolean operations table:\n",
    "\n",
    "<img src=\"https://upload.wikimedia.org/wikipedia/commons/4/4a/Truth_table_for_AND%2C_OR%2C_and_NOT.png\" alt=\"Boolean Table\" style=\"width: 400px;\"/>\n",
    "\n",
    "we have the following operations:\n",
    "\n",
    "* and\n",
    "* or \n",
    "* not\n",
    "* ==\n",
    "* !="
   ]
  },
  {
   "cell_type": "code",
   "execution_count": 10,
   "metadata": {},
   "outputs": [
    {
     "name": "stdout",
     "output_type": "stream",
     "text": [
      "True\n",
      "True\n",
      "False\n",
      "True\n",
      "False\n",
      "True\n"
     ]
    }
   ],
   "source": [
    "print(True and True)\n",
    "print(False or True)\n",
    "print(not True)\n",
    "print(not False and False or True)\n",
    "print(True == False)\n",
    "print(True != False)"
   ]
  },
  {
   "cell_type": "markdown",
   "metadata": {},
   "source": [
    "#### Exercise!\n",
    "\n",
    "Create the NAND operation using the following truth table.\n",
    "\n",
    "\n",
    "<img src=\"http://www.zseries.in/electronics%20lab/ics/pictures/truth%20table%20of%20ic7400.png\" alt=\"NAND Table\" style=\"width: 200px;\"/>\n",
    "\n",
    "0 $\\to$ False\n",
    "\n",
    "1 $\\to$ True"
   ]
  },
  {
   "cell_type": "code",
   "execution_count": 11,
   "metadata": {},
   "outputs": [],
   "source": [
    "result_1 = not (0 and 0)\n",
    "result_2 = not (0 and 1)\n",
    "result_3 = not (1 and 0)\n",
    "result_4 = not (1 and 1)"
   ]
  },
  {
   "cell_type": "markdown",
   "metadata": {},
   "source": [
    "Everything in the next cell should print True."
   ]
  },
  {
   "cell_type": "code",
   "execution_count": 12,
   "metadata": {},
   "outputs": [
    {
     "name": "stdout",
     "output_type": "stream",
     "text": [
      "True\n",
      "True\n",
      "True\n",
      "True\n"
     ]
    }
   ],
   "source": [
    "print(result_1 == True)\n",
    "print(result_2 == True)\n",
    "print(result_3 == True)\n",
    "print(result_4 == False)"
   ]
  },
  {
   "cell_type": "markdown",
   "metadata": {},
   "source": [
    "### Functions\n",
    "\n",
    "Functions is a way for us to reuse code."
   ]
  },
  {
   "cell_type": "code",
   "execution_count": 13,
   "metadata": {},
   "outputs": [],
   "source": [
    "def say_hi(name):\n",
    "    print('Hi ' + name + '!')"
   ]
  },
  {
   "cell_type": "code",
   "execution_count": 14,
   "metadata": {
    "scrolled": true
   },
   "outputs": [
    {
     "name": "stdout",
     "output_type": "stream",
     "text": [
      "Hi Type your name here!\n"
     ]
    }
   ],
   "source": [
    "say_hi(my_name)"
   ]
  },
  {
   "cell_type": "code",
   "execution_count": 15,
   "metadata": {},
   "outputs": [],
   "source": [
    "# It can also return values.\n",
    "def average(x, y):\n",
    "    return (x + y) / 2"
   ]
  },
  {
   "cell_type": "code",
   "execution_count": 16,
   "metadata": {},
   "outputs": [
    {
     "data": {
      "text/plain": [
       "2.5"
      ]
     },
     "execution_count": 16,
     "metadata": {},
     "output_type": "execute_result"
    }
   ],
   "source": [
    "average(2,3)"
   ]
  },
  {
   "cell_type": "markdown",
   "metadata": {},
   "source": [
    "Functions also allow for default values,"
   ]
  },
  {
   "cell_type": "code",
   "execution_count": 17,
   "metadata": {},
   "outputs": [],
   "source": [
    "def print_number(number=1):\n",
    "    print(number)"
   ]
  },
  {
   "cell_type": "code",
   "execution_count": 18,
   "metadata": {},
   "outputs": [
    {
     "name": "stdout",
     "output_type": "stream",
     "text": [
      "1\n"
     ]
    }
   ],
   "source": [
    "print_number()"
   ]
  },
  {
   "cell_type": "code",
   "execution_count": 19,
   "metadata": {},
   "outputs": [
    {
     "name": "stdout",
     "output_type": "stream",
     "text": [
      "10\n"
     ]
    }
   ],
   "source": [
    "print_number(10)"
   ]
  },
  {
   "cell_type": "markdown",
   "metadata": {},
   "source": [
    "#### Exercise!\n",
    "\n",
    "Create a function that computes the nth term of the Fibonacci sequence. \n",
    "\n",
    "Name it nth_fibonacci.\n",
    "\n",
    "The formula is:\n",
    "\n",
    "$ f(n) = \\frac{Phi^{n} - (phi^n)}{2} $\n",
    "\n",
    "where \n",
    "\n",
    "$ Phi = (1 + \\sqrt{5}) / 2 $\n",
    "and \n",
    "\n",
    "$ phi = (1 - \\sqrt{5}) / 2 $"
   ]
  },
  {
   "cell_type": "code",
   "execution_count": 20,
   "metadata": {},
   "outputs": [],
   "source": [
    "def nth_fibonacci(nth):\n",
    "    # Phi is known as the golden mean TIL\n",
    "    Phi = (1 + 5 ** 1/2) / 2\n",
    "    phi = (1 - 5 ** 1/2) / 2\n",
    "    return round((Phi ** nth - (phi ** nth)) / 2)"
   ]
  },
  {
   "cell_type": "code",
   "execution_count": 21,
   "metadata": {},
   "outputs": [
    {
     "name": "stdout",
     "output_type": "stream",
     "text": [
      "True\n"
     ]
    }
   ],
   "source": [
    "# This should print True\n",
    "print(nth_fibonacci(100) == 1006409836763892418609152)"
   ]
  },
  {
   "cell_type": "markdown",
   "metadata": {},
   "source": [
    "###  Scope\n",
    "\n",
    "With the introduction of functions, you might have noticed that we've added a tab after the _def_ line of our functions.\n",
    "\n",
    "This _tab_ indicates that you are in a __local scope__.\n",
    "\n",
    "In Python, __local scope__ variables tend to __shadow__ variables that are in the __global scope__ or on lines that do not have tabs. What does this mean?\n",
    "\n",
    "Here's an example."
   ]
  },
  {
   "cell_type": "code",
   "execution_count": 22,
   "metadata": {},
   "outputs": [
    {
     "name": "stdout",
     "output_type": "stream",
     "text": [
      "I am a global variable!\n",
      "I am now a local variable!\n",
      "I am a global variable!\n"
     ]
    }
   ],
   "source": [
    "variable = 'I am a global variable!'\n",
    "print(variable)\n",
    "\n",
    "def some_function():\n",
    "    variable = 'I am now a local variable!'\n",
    "    print(variable)\n",
    "\n",
    "some_function()\n",
    "print(variable)"
   ]
  },
  {
   "cell_type": "markdown",
   "metadata": {},
   "source": [
    "We've seen that the variable in the __global scope__ did not get overwritten by the __local variable__ with the same name inside our function. It's simply __shadowed__.\n",
    "\n",
    "Take note of another caveat in the scoping rules of Python.\n",
    "We can access __global variables__ in __local scopes__ but it is generally a bad practice to do so. \n",
    "\n",
    "For example (and do not do this please):"
   ]
  },
  {
   "cell_type": "code",
   "execution_count": 23,
   "metadata": {},
   "outputs": [
    {
     "name": "stdout",
     "output_type": "stream",
     "text": [
      "Hi there!\n"
     ]
    }
   ],
   "source": [
    "some_variable = 'Hi there!'\n",
    "\n",
    "def foo():\n",
    "    print(some_variable)\n",
    "    \n",
    "foo()"
   ]
  },
  {
   "cell_type": "markdown",
   "metadata": {},
   "source": [
    "### Conditionals\n",
    "\n",
    "In programming, it's often that we have branching logic.\n",
    "At times, we want our programs to do something if some condition gets satisfied.\n",
    "\n",
    "The syntax for this is:\n",
    "\n",
    "```python\n",
    "if some_condition:\n",
    "    command\n",
    "elif another_condition:\n",
    "    command\n",
    "else:\n",
    "    command\n",
    "```\n",
    "\n",
    "For example:"
   ]
  },
  {
   "cell_type": "code",
   "execution_count": 24,
   "metadata": {},
   "outputs": [
    {
     "name": "stdout",
     "output_type": "stream",
     "text": [
      "That number is even!\n"
     ]
    }
   ],
   "source": [
    "some_number = 10\n",
    "\n",
    "if some_number % 2 == 1:\n",
    "    print('That number is odd!')\n",
    "else:\n",
    "    print('That number is even!')"
   ]
  },
  {
   "cell_type": "markdown",
   "metadata": {},
   "source": [
    "#### On Scoping in Conditionals\n",
    "Take note that __if the branch of a conditional get executed__, it will exist on the it's __upper scope__.\n",
    "This isn't the same as the scoping rule for functions, where variables get shadowed.\n"
   ]
  },
  {
   "cell_type": "code",
   "execution_count": 25,
   "metadata": {},
   "outputs": [
    {
     "name": "stdout",
     "output_type": "stream",
     "text": [
      "10\n"
     ]
    }
   ],
   "source": [
    "if True:\n",
    "    new_variable = 10\n",
    "print(new_variable)"
   ]
  },
  {
   "cell_type": "code",
   "execution_count": 26,
   "metadata": {},
   "outputs": [],
   "source": [
    "# Uncomment below to try this out! You should get an error.\n",
    "# if False:\n",
    "#     another_new_variable = 10\n",
    "# print(another_new_variable)"
   ]
  },
  {
   "cell_type": "markdown",
   "metadata": {},
   "source": [
    "#### Exercise!\n",
    "\n",
    "Define a function named fizzbuzz that accepts a number and prints:\n",
    "\n",
    "1. Fizz if the number is divisible by 3.\n",
    "2. Buzz if the number is divisible by 5.\n",
    "3. FizzBuzz if the number is divisible by 3 and 5.\n",
    "4. Prints the number if not divisible by 3 or 5."
   ]
  },
  {
   "cell_type": "code",
   "execution_count": 27,
   "metadata": {},
   "outputs": [],
   "source": [
    "def fizzbuzz(num):\n",
    "    if num % 15 == 0:\n",
    "        print('FizzBuzz')\n",
    "    elif num % 3 == 0:\n",
    "        print('Fizz')\n",
    "    elif num % 5 == 0:\n",
    "        print('Buzz')\n",
    "    else:\n",
    "        print(num)"
   ]
  },
  {
   "cell_type": "code",
   "execution_count": 28,
   "metadata": {},
   "outputs": [
    {
     "name": "stdout",
     "output_type": "stream",
     "text": [
      "FizzBuzz\n",
      "Buzz\n",
      "Fizz\n",
      "47\n"
     ]
    }
   ],
   "source": [
    "fizzbuzz(45)\n",
    "fizzbuzz(25)\n",
    "fizzbuzz(42)\n",
    "fizzbuzz(47)"
   ]
  },
  {
   "cell_type": "markdown",
   "metadata": {},
   "source": [
    "### Iterables\n",
    "\n",
    "Iterables are data types that hold other data types.\n",
    "\n",
    "In Python, we have the two most popular iterable types, namely:\n",
    "\n",
    "* Lists\n",
    "* Tuples\n",
    "\n",
    "The main difference between the two is that you can add and remove elements in a List, but not in a Tuple."
   ]
  },
  {
   "cell_type": "code",
   "execution_count": 29,
   "metadata": {},
   "outputs": [
    {
     "name": "stdout",
     "output_type": "stream",
     "text": [
      "[1, 2, 'Dog', 'Hi there!']\n",
      "('Cat', 2, 3, True)\n"
     ]
    }
   ],
   "source": [
    "some_list = [1, 2, 'Dog', some_variable]\n",
    "some_tuple = ('Cat', 2, 3, a_boolean)\n",
    "\n",
    "print(some_list)\n",
    "print(some_tuple)"
   ]
  },
  {
   "cell_type": "markdown",
   "metadata": {},
   "source": [
    "#### Iterable Indices\n",
    "\n",
    "We can access elements inside our iterables, starting from the 0th position."
   ]
  },
  {
   "cell_type": "code",
   "execution_count": 30,
   "metadata": {},
   "outputs": [
    {
     "name": "stdout",
     "output_type": "stream",
     "text": [
      "1\n",
      "2\n",
      "Dog\n",
      "Hi there!\n"
     ]
    }
   ],
   "source": [
    "print(some_list[0])\n",
    "print(some_list[1])\n",
    "print(some_list[2])\n",
    "print(some_list[3])"
   ]
  },
  {
   "cell_type": "markdown",
   "metadata": {},
   "source": [
    "We can also use negative indices to access elements in reverse."
   ]
  },
  {
   "cell_type": "code",
   "execution_count": 31,
   "metadata": {},
   "outputs": [
    {
     "name": "stdout",
     "output_type": "stream",
     "text": [
      "Hi there!\n",
      "Dog\n",
      "2\n",
      "1\n"
     ]
    }
   ],
   "source": [
    "print(some_list[-1])\n",
    "print(some_list[-2])\n",
    "print(some_list[-3])\n",
    "print(some_list[-4])"
   ]
  },
  {
   "cell_type": "markdown",
   "metadata": {},
   "source": [
    "####  Slicing\n",
    "\n",
    "We can get __slices__ of our iterables, too.\n",
    "\n",
    "The syntax is __some_iterable[starting_index : ending_index]__\n",
    "\n",
    "where the ending_index is exlusive or not included.\n",
    "\n",
    "For example:"
   ]
  },
  {
   "cell_type": "code",
   "execution_count": 32,
   "metadata": {},
   "outputs": [
    {
     "name": "stdout",
     "output_type": "stream",
     "text": [
      "[2, 'Dog', 'Hi there!']\n",
      "['Hi there!']\n"
     ]
    }
   ],
   "source": [
    "print(some_list[1:4])\n",
    "print(some_list[3:5])"
   ]
  },
  {
   "cell_type": "markdown",
   "metadata": {},
   "source": [
    "It's good to note that the indices are optional, too."
   ]
  },
  {
   "cell_type": "code",
   "execution_count": 33,
   "metadata": {},
   "outputs": [
    {
     "name": "stdout",
     "output_type": "stream",
     "text": [
      "['Dog', 'Hi there!']\n",
      "[1, 2]\n"
     ]
    }
   ],
   "source": [
    "print(some_list[2:])\n",
    "print(some_list[:2])"
   ]
  },
  {
   "cell_type": "markdown",
   "metadata": {},
   "source": [
    "We can also traverse iterables by some step.\n",
    "\n",
    "The syntax is __some_iterable[starting_index : ending_index : step_number]__\n",
    "\n",
    "For example:"
   ]
  },
  {
   "cell_type": "code",
   "execution_count": 34,
   "metadata": {},
   "outputs": [
    {
     "name": "stdout",
     "output_type": "stream",
     "text": [
      "[2, 'Hi there!']\n"
     ]
    }
   ],
   "source": [
    "print(some_list[1:5:2])"
   ]
  },
  {
   "cell_type": "code",
   "execution_count": 35,
   "metadata": {},
   "outputs": [
    {
     "name": "stdout",
     "output_type": "stream",
     "text": [
      "['Hi there!', 'Dog', 2, 1]\n"
     ]
    }
   ],
   "source": [
    "# Thus, we can also reverse lists in an easy way.\n",
    "print(some_list[::-1])"
   ]
  },
  {
   "cell_type": "markdown",
   "metadata": {},
   "source": [
    "#### Exercise!\n",
    "\n",
    "Using the grocery_list variable below, create a function named grocery_types that accepts a string and returns a list of it. The strings it should accept are:\n",
    "\n",
    "1. electronics\n",
    "2. food\n",
    "3. cleaning items\n",
    "4. liquids\n",
    "\n",
    "If it doesn't recognize the string, it should print out 'I do not know what you want.'"
   ]
  },
  {
   "cell_type": "code",
   "execution_count": 36,
   "metadata": {},
   "outputs": [],
   "source": [
    "grocery_list = ['bread', 'milk', 'soap bar', 'bleach', 'lightbulb']"
   ]
  },
  {
   "cell_type": "code",
   "execution_count": 37,
   "metadata": {},
   "outputs": [],
   "source": [
    "def grocery_types(string):\n",
    "    if string == 'electronics':\n",
    "        return grocery_list[-1]\n",
    "    elif string == 'food':\n",
    "        return grocery_list[:2]\n",
    "    elif string == 'cleaning items':\n",
    "        return grocery_list[2:4]\n",
    "    elif string == 'liquids':\n",
    "        return grocery_list[1::2]\n",
    "    else:\n",
    "        print('I do not know what you want.')"
   ]
  },
  {
   "cell_type": "code",
   "execution_count": 38,
   "metadata": {},
   "outputs": [
    {
     "name": "stdout",
     "output_type": "stream",
     "text": [
      "lightbulb\n",
      "['bread', 'milk']\n",
      "['soap bar', 'bleach']\n",
      "['milk', 'bleach']\n",
      "I do not know what you want.\n"
     ]
    }
   ],
   "source": [
    "print(grocery_types('electronics'))\n",
    "print(grocery_types('food'))\n",
    "print(grocery_types('cleaning items'))\n",
    "print(grocery_types('liquids'))\n",
    "grocery_types('clothes')"
   ]
  },
  {
   "cell_type": "markdown",
   "metadata": {},
   "source": [
    "### Loops\n",
    "\n",
    "In programming, loops are a common concept where operations are executed multiple times using iterables.\n",
    "\n",
    "The syntax is as follows:\n",
    "```python\n",
    "for local_variable in iterable:\n",
    "    commands\n",
    "```"
   ]
  },
  {
   "cell_type": "code",
   "execution_count": 39,
   "metadata": {},
   "outputs": [
    {
     "name": "stdout",
     "output_type": "stream",
     "text": [
      "bread\n",
      "milk\n",
      "soap bar\n",
      "bleach\n",
      "lightbulb\n"
     ]
    }
   ],
   "source": [
    "for item in grocery_list:\n",
    "    print(item)"
   ]
  },
  {
   "cell_type": "code",
   "execution_count": 40,
   "metadata": {},
   "outputs": [],
   "source": [
    "names = ['Jac Lin', 'MG', 'Carlo', 'Ingrid', 'Jules']"
   ]
  },
  {
   "cell_type": "code",
   "execution_count": 41,
   "metadata": {},
   "outputs": [
    {
     "name": "stdout",
     "output_type": "stream",
     "text": [
      "Hi Jac Lin!\n",
      "Hi MG!\n",
      "Hi Carlo!\n",
      "Hi Ingrid!\n",
      "Hi Jules!\n"
     ]
    }
   ],
   "source": [
    "for name in names:\n",
    "    say_hi(name)"
   ]
  },
  {
   "cell_type": "markdown",
   "metadata": {},
   "source": [
    "Take note that the variables that you declare in loops, like name and item, gets into the __upper scope__."
   ]
  },
  {
   "cell_type": "code",
   "execution_count": 42,
   "metadata": {},
   "outputs": [
    {
     "name": "stdout",
     "output_type": "stream",
     "text": [
      "Jules\n"
     ]
    }
   ],
   "source": [
    "print(name)"
   ]
  },
  {
   "cell_type": "code",
   "execution_count": 43,
   "metadata": {},
   "outputs": [
    {
     "name": "stdout",
     "output_type": "stream",
     "text": [
      "lightbulb\n"
     ]
    }
   ],
   "source": [
    "print(item)"
   ]
  },
  {
   "cell_type": "markdown",
   "metadata": {},
   "source": [
    "#### Using the enumerate() function\n",
    "\n",
    "Suppose that we want to get the index and the item in a list, we can just use enumerate()"
   ]
  },
  {
   "cell_type": "code",
   "execution_count": 44,
   "metadata": {},
   "outputs": [
    {
     "name": "stdout",
     "output_type": "stream",
     "text": [
      "0: Jac Lin\n",
      "1: MG\n",
      "2: Carlo\n",
      "3: Ingrid\n",
      "4: Jules\n"
     ]
    }
   ],
   "source": [
    "# Take note that we had to convert index to a string type \n",
    "# using str() to concatenate it with other strings.\n",
    "for index, name in enumerate(names):\n",
    "    print(str(index) + ': ' + name)"
   ]
  },
  {
   "cell_type": "markdown",
   "metadata": {},
   "source": [
    "#### Nested Loops\n",
    "\n",
    "We can also have loops within loops ad infinitum. "
   ]
  },
  {
   "cell_type": "code",
   "execution_count": 45,
   "metadata": {},
   "outputs": [
    {
     "name": "stdout",
     "output_type": "stream",
     "text": [
      "1: 1\n",
      "1: 2\n",
      "1: 3\n",
      "2: 1\n",
      "2: 2\n",
      "2: 3\n",
      "3: 1\n",
      "3: 2\n",
      "3: 3\n"
     ]
    }
   ],
   "source": [
    "numbers = [1,2,3]\n",
    "\n",
    "for outer_number in numbers:\n",
    "    for inner_number in numbers:\n",
    "        print(str(outer_number) + ': ' + str(inner_number))"
   ]
  },
  {
   "cell_type": "markdown",
   "metadata": {},
   "source": [
    "#### Exercise!\n",
    "\n",
    "Create a function called right_triangle that accepts a number and generates a right triangle with the specified number of lines.\n",
    "\n",
    "right_triangle(3) should print\n",
    "```\n",
    "*\n",
    "**\n",
    "***\n",
    "```\n",
    "\n",
    "Tip 1: Use the range() function, which accepts a number and generates numbers from 0 up to that number.\n",
    "\n",
    "Tip 2: Remember string multiplication?"
   ]
  },
  {
   "cell_type": "code",
   "execution_count": 46,
   "metadata": {},
   "outputs": [
    {
     "name": "stdout",
     "output_type": "stream",
     "text": [
      "0\n",
      "1\n",
      "2\n",
      "3\n"
     ]
    }
   ],
   "source": [
    "for number in range(4):\n",
    "    print(number)"
   ]
  },
  {
   "cell_type": "code",
   "execution_count": 47,
   "metadata": {},
   "outputs": [],
   "source": [
    "def right_triangle(number):\n",
    "    for multiplier in range(number):\n",
    "        print('*' * multiplier + '*')"
   ]
  },
  {
   "cell_type": "code",
   "execution_count": 48,
   "metadata": {},
   "outputs": [
    {
     "name": "stdout",
     "output_type": "stream",
     "text": [
      "*\n",
      "**\n",
      "***\n",
      "****\n",
      "*****\n",
      "******\n",
      "*******\n",
      "********\n",
      "*********\n",
      "**********\n"
     ]
    }
   ],
   "source": [
    "right_triangle(10)"
   ]
  },
  {
   "cell_type": "markdown",
   "metadata": {},
   "source": [
    "#### Challenge!\n",
    "\n",
    "Can you create an equilateral_triangle function?\n",
    "\n",
    "equilateral_triangle(4)\n",
    "```\n",
    "   *\n",
    "  ***\n",
    " *****\n",
    "*******\n",
    "```"
   ]
  },
  {
   "cell_type": "code",
   "execution_count": 49,
   "metadata": {},
   "outputs": [],
   "source": [
    "def odd_terms_list(number):\n",
    "    return [n for n in range(number * 2)  if n % 2]\n",
    "\n",
    "def equilateral_triangle(lines):\n",
    "    ls_star = odd_terms_list(lines)\n",
    "    ls_space = [n for n in range(lines)][::-1]\n",
    "    for line in range(lines):\n",
    "        print(' ' * ls_space[line] + '*' * ls_star[line])"
   ]
  },
  {
   "cell_type": "code",
   "execution_count": 50,
   "metadata": {},
   "outputs": [
    {
     "name": "stdout",
     "output_type": "stream",
     "text": [
      "    *\n",
      "   ***\n",
      "  *****\n",
      " *******\n",
      "*********\n"
     ]
    }
   ],
   "source": [
    "equilateral_triangle(5)"
   ]
  },
  {
   "cell_type": "markdown",
   "metadata": {},
   "source": [
    "### Other topics with Lists and Iterables\n"
   ]
  },
  {
   "cell_type": "markdown",
   "metadata": {},
   "source": [
    "#### List Comprehensions\n",
    "\n",
    "Programmers are often lazy and we do not want to read a lot and type a lot of code.\n",
    "\n",
    "List comprehensions offer us an elegant way to create lists from loops!"
   ]
  },
  {
   "cell_type": "code",
   "execution_count": 51,
   "metadata": {},
   "outputs": [
    {
     "name": "stdout",
     "output_type": "stream",
     "text": [
      "[0, 1, 2, 3, 4, 5, 6, 7, 8, 9]\n"
     ]
    }
   ],
   "source": [
    "print([number for number in range(10)])"
   ]
  },
  {
   "cell_type": "code",
   "execution_count": 52,
   "metadata": {},
   "outputs": [
    {
     "name": "stdout",
     "output_type": "stream",
     "text": [
      "[1, 9, 25, 49, 81]\n"
     ]
    }
   ],
   "source": [
    "print([number ** 2 for number in range(10) if number % 2])"
   ]
  },
  {
   "cell_type": "markdown",
   "metadata": {},
   "source": [
    "##### Exercise!\n",
    "\n",
    "Convert the following loops into list expressions."
   ]
  },
  {
   "cell_type": "code",
   "execution_count": 53,
   "metadata": {},
   "outputs": [
    {
     "name": "stdout",
     "output_type": "stream",
     "text": [
      "[0, 1, 2, 3, 4, 5, 6, 7, 8, 9]\n"
     ]
    }
   ],
   "source": [
    "a_list = []\n",
    "for n in range(10):\n",
    "    # This is appending an element to a list\n",
    "    a_list = a_list + [n]\n",
    "print(a_list)"
   ]
  },
  {
   "cell_type": "code",
   "execution_count": 54,
   "metadata": {},
   "outputs": [
    {
     "name": "stdout",
     "output_type": "stream",
     "text": [
      "[0, 1, 2, 3, 4, 5, 6, 7, 8, 9]\n"
     ]
    }
   ],
   "source": [
    "a_list = [n for n in range(10)]\n",
    "print(a_list)"
   ]
  },
  {
   "cell_type": "code",
   "execution_count": 55,
   "metadata": {},
   "outputs": [
    {
     "name": "stdout",
     "output_type": "stream",
     "text": [
      "[51, 52, 53, 54, 55, 56, 57, 58, 59, 60, 61, 62, 63, 64, 65, 66, 67, 68, 69, 70, 71, 72, 73, 74, 75, 76, 77, 78, 79, 80, 81, 82, 83, 84, 85, 86, 87, 88, 89, 90, 91, 92, 93, 94, 95, 96, 97, 98, 99]\n"
     ]
    }
   ],
   "source": [
    "b_list = []\n",
    "for n in range(100):\n",
    "    if n > 50:\n",
    "        b_list = b_list + [n]\n",
    "print(b_list)"
   ]
  },
  {
   "cell_type": "code",
   "execution_count": 56,
   "metadata": {},
   "outputs": [
    {
     "name": "stdout",
     "output_type": "stream",
     "text": [
      "[51, 52, 53, 54, 55, 56, 57, 58, 59, 60, 61, 62, 63, 64, 65, 66, 67, 68, 69, 70, 71, 72, 73, 74, 75, 76, 77, 78, 79, 80, 81, 82, 83, 84, 85, 86, 87, 88, 89, 90, 91, 92, 93, 94, 95, 96, 97, 98, 99]\n"
     ]
    }
   ],
   "source": [
    "b_list = [n for n in range(100) if n > 50]\n",
    "print(b_list)"
   ]
  },
  {
   "cell_type": "markdown",
   "metadata": {},
   "source": [
    "#### Nested or N-dimensional Lists\n",
    "\n",
    "Sometimes, we want to have lists in lists, like in matrices for examples."
   ]
  },
  {
   "cell_type": "code",
   "execution_count": 57,
   "metadata": {},
   "outputs": [],
   "source": [
    "a_matrix = [\n",
    "    [1, 2, 3],\n",
    "    [4, 5, 6],\n",
    "    [7, 8, 9],\n",
    "]"
   ]
  },
  {
   "cell_type": "markdown",
   "metadata": {},
   "source": [
    "We can access the elements of this matrix by using the syntax:\n",
    "\n",
    "a_matrix[row][column]\n"
   ]
  },
  {
   "cell_type": "code",
   "execution_count": 58,
   "metadata": {},
   "outputs": [
    {
     "name": "stdout",
     "output_type": "stream",
     "text": [
      "6\n"
     ]
    }
   ],
   "source": [
    "print(a_matrix[1][2])"
   ]
  },
  {
   "cell_type": "markdown",
   "metadata": {},
   "source": [
    "##### Exercise\n",
    "\n",
    "Using the for loops and the range() function, generate a 100x100 matrix."
   ]
  },
  {
   "cell_type": "code",
   "execution_count": 59,
   "metadata": {},
   "outputs": [],
   "source": [
    "mat = []\n",
    "for i in range(100):\n",
    "    row = [n for n in range(100)]\n",
    "    mat = mat + [row]"
   ]
  },
  {
   "cell_type": "markdown",
   "metadata": {},
   "source": [
    "### Dictionaries\n",
    "\n",
    "Dictionaries are kind of like iterables, such that they also hold data. However, data inside dictionaries are unordered."
   ]
  },
  {
   "cell_type": "code",
   "execution_count": 60,
   "metadata": {},
   "outputs": [],
   "source": [
    "a_dict = {\n",
    "    'university': 'Ateneo de Manila University',\n",
    "    'schools': ['SOSE', 'SOSS', 'SOM', 'SOH']\n",
    "}"
   ]
  },
  {
   "cell_type": "markdown",
   "metadata": {},
   "source": [
    "Dictionaries act like, well dictionaries, in a sense that you can look up items in it."
   ]
  },
  {
   "cell_type": "code",
   "execution_count": 61,
   "metadata": {},
   "outputs": [
    {
     "name": "stdout",
     "output_type": "stream",
     "text": [
      "Ateneo de Manila University\n",
      "['SOSE', 'SOSS', 'SOM', 'SOH']\n"
     ]
    }
   ],
   "source": [
    "print(a_dict['university'])\n",
    "print(a_dict['schools'])"
   ]
  },
  {
   "cell_type": "markdown",
   "metadata": {},
   "source": [
    "One awesome thing that we can use dictionaries for is when we have functions with default named inputs or parameters. This helps us structure our code elegantly at times."
   ]
  },
  {
   "cell_type": "code",
   "execution_count": 62,
   "metadata": {},
   "outputs": [],
   "source": [
    "def university_details(university, schools):\n",
    "    print(university)\n",
    "    print(schools)"
   ]
  },
  {
   "cell_type": "code",
   "execution_count": 63,
   "metadata": {},
   "outputs": [
    {
     "name": "stdout",
     "output_type": "stream",
     "text": [
      "Ateneo de Manila University\n",
      "['SOSE', 'SOSS', 'SOM', 'SOH']\n"
     ]
    }
   ],
   "source": [
    "university_details(**a_dict)"
   ]
  },
  {
   "cell_type": "markdown",
   "metadata": {},
   "source": [
    "#### Iterating Dictionaries\n",
    "\n",
    "We can also loop over dictionaries, with a special syntax!\n",
    "The result will be a tuple containing two elements, where the first one is the key, and the second is it's value."
   ]
  },
  {
   "cell_type": "code",
   "execution_count": 64,
   "metadata": {},
   "outputs": [
    {
     "name": "stdout",
     "output_type": "stream",
     "text": [
      "('university', 'Ateneo de Manila University')\n",
      "('schools', ['SOSE', 'SOSS', 'SOM', 'SOH'])\n"
     ]
    }
   ],
   "source": [
    "for item in a_dict.items():\n",
    "    print(item)"
   ]
  },
  {
   "cell_type": "markdown",
   "metadata": {},
   "source": [
    "### Short Introduction to Object-Oriented Programming\n",
    "\n",
    "So far, we've been introduced to different data types or classes in Python. \n",
    "\n",
    "Let's formalize some concepts first.\n",
    "\n",
    "The following line is formally read as:\n",
    "\n",
    "> some_variable is assigned an integer value of 10."
   ]
  },
  {
   "cell_type": "code",
   "execution_count": 65,
   "metadata": {},
   "outputs": [],
   "source": [
    "some_variable = 10"
   ]
  },
  {
   "cell_type": "markdown",
   "metadata": {},
   "source": [
    "When a variable is assigned to a value with a type, it's now referred to as an __object__ with type X.\n",
    "\n",
    "In the example above, __some_variable__ is an integer object with a value of 10.\n",
    "\n",
    "So what's the point of all this?"
   ]
  },
  {
   "cell_type": "markdown",
   "metadata": {},
   "source": [
    "Well, what makes Python a great language is that it has a great number of built-in functions for its objects. Objects get to have their own inner functions or __methods__ depending on their type.\n",
    "\n",
    "How do we use this then?\n",
    "\n",
    "We use the dot notation to access an object's methods.\n",
    "\n",
    "_Use Jupyter's built in autocompletion by pressing the Tab key after the dot symbol_"
   ]
  },
  {
   "cell_type": "code",
   "execution_count": 66,
   "metadata": {},
   "outputs": [
    {
     "name": "stdout",
     "output_type": "stream",
     "text": [
      "[1, 2, 6, 4, 0]\n",
      "[0, 1, 2, 4, 6]\n"
     ]
    }
   ],
   "source": [
    "some_list = [1,2,6,4,0]\n",
    "print(some_list)\n",
    "some_list.sort()\n",
    "print(some_list)"
   ]
  },
  {
   "cell_type": "markdown",
   "metadata": {},
   "source": [
    "Note that almost ALL objects in Python have their own methods that makes our lives easier! :) "
   ]
  },
  {
   "cell_type": "markdown",
   "metadata": {},
   "source": [
    "#### Exercise\n",
    "\n",
    "1. Skim the methods of strings, ints, floats, dicts, and lists in Python.\n",
    "2. Create a function that capitalizes an input string if it has at least 4 vowels in it, and does nothing otherwise.\n",
    "\n",
    "Tip: Strings are also iterables"
   ]
  },
  {
   "cell_type": "code",
   "execution_count": 67,
   "metadata": {},
   "outputs": [],
   "source": [
    "def string_capitalizer(string):\n",
    "    counter = 0\n",
    "    vowels = ['a', 'e', 'i', 'o', 'u']\n",
    "    for char in string:\n",
    "        if char in vowels:\n",
    "            counter = counter + 1\n",
    "    if counter > 3:\n",
    "        return string.upper()\n",
    "    else:\n",
    "        return string"
   ]
  },
  {
   "cell_type": "code",
   "execution_count": 68,
   "metadata": {},
   "outputs": [
    {
     "data": {
      "text/plain": [
       "'admu'"
      ]
     },
     "execution_count": 68,
     "metadata": {},
     "output_type": "execute_result"
    }
   ],
   "source": [
    "string_capitalizer('Hello World')\n",
    "string_capitalizer('admu')"
   ]
  },
  {
   "cell_type": "markdown",
   "metadata": {},
   "source": [
    "### Using Libraries\n",
    "\n",
    "Python has a hundred useful libraries and modules. Using these libraries help us create programs that are powerful yet concise. Think of it as us standing on the shoulders of giants. :)"
   ]
  },
  {
   "cell_type": "code",
   "execution_count": 69,
   "metadata": {},
   "outputs": [],
   "source": [
    "# import is the command to use libraries in python\n",
    "import random"
   ]
  },
  {
   "cell_type": "markdown",
   "metadata": {},
   "source": [
    "Libraries like _random_ allows us to use convenience functions.\n",
    "\n",
    "Press the __Shift+Tab__ keys together to access documentation as long \n",
    "as your cursor is on the method."
   ]
  },
  {
   "cell_type": "code",
   "execution_count": 70,
   "metadata": {},
   "outputs": [
    {
     "name": "stdout",
     "output_type": "stream",
     "text": [
      "0\n",
      "0\n",
      "0\n",
      "1\n"
     ]
    }
   ],
   "source": [
    "for i in range(4):\n",
    "    print(random.randint(0, 1))"
   ]
  },
  {
   "cell_type": "markdown",
   "metadata": {},
   "source": [
    "#### Exercise!\n",
    "\n",
    "Can you determine if the random.randint function is a uniform distribution?"
   ]
  },
  {
   "cell_type": "code",
   "execution_count": 71,
   "metadata": {},
   "outputs": [
    {
     "data": {
      "text/plain": [
       "0.5104"
      ]
     },
     "execution_count": 71,
     "metadata": {},
     "output_type": "execute_result"
    }
   ],
   "source": [
    "sum([random.randint(0,1) for n in range(10000)]) / 10000"
   ]
  },
  {
   "cell_type": "markdown",
   "metadata": {},
   "source": [
    "### Challenges of the Day!\n",
    "\n",
    "1. Create a circle function that accepts some radius and draws it on a 100x100 grid.\n",
    "\n",
    "> Example for circle with radius 5:\n",
    "> ```\n",
    ". . . # # # # # . . .\n",
    ". . # . . . . . # . .\n",
    ". # . . . . . . . # .\n",
    "# . . . . . . . . . #\n",
    "# . . . . . . . . . #\n",
    "# . . . . . . . . . #\n",
    "# . . . . . . . . . #\n",
    "# . . . . . . . . . #\n",
    ". # . . . . . . . # .\n",
    ". . # . . . . . # . .\n",
    ". . . # # # # # . . .\n",
    "```\n",
    "\n",
    "2. Using the random library, create a game that plays Rock, Paper, Scissors with an specified number of rounds. You can even make your game play on its own! :) \n",
    "\n",
    "3. Install the mobilechelonian library and play with the Turtle. Can you draw a tree? "
   ]
  }
 ],
 "metadata": {
  "kernelspec": {
   "display_name": "Python 3",
   "language": "python",
   "name": "python3"
  },
  "language_info": {
   "codemirror_mode": {
    "name": "ipython",
    "version": 3
   },
   "file_extension": ".py",
   "mimetype": "text/x-python",
   "name": "python",
   "nbconvert_exporter": "python",
   "pygments_lexer": "ipython3",
   "version": "3.6.2"
  },
  "toc": {
   "nav_menu": {},
   "number_sections": true,
   "sideBar": true,
   "skip_h1_title": false,
   "toc_cell": true,
   "toc_position": {
    "height": "1166px",
    "left": "0px",
    "right": "557.283px",
    "top": "110px",
    "width": "217px"
   },
   "toc_section_display": "block",
   "toc_window_display": false
  }
 },
 "nbformat": 4,
 "nbformat_minor": 2
}
